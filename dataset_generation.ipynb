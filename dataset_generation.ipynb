{
  "nbformat": 4,
  "nbformat_minor": 0,
  "metadata": {
    "colab": {
      "name": "dataset_generation.ipynb",
      "provenance": [],
      "collapsed_sections": [],
      "include_colab_link": true
    },
    "kernelspec": {
      "name": "python3",
      "display_name": "Python 3"
    },
    "language_info": {
      "name": "python"
    }
  },
  "cells": [
    {
      "cell_type": "markdown",
      "metadata": {
        "id": "view-in-github",
        "colab_type": "text"
      },
      "source": [
        "<a href=\"https://colab.research.google.com/github/RobertoAlessandri/CNN_DOA/blob/main/dataset_generation.ipynb\" target=\"_parent\"><img src=\"https://colab.research.google.com/assets/colab-badge.svg\" alt=\"Open In Colab\"/></a>"
      ]
    },
    {
      "cell_type": "code",
      "execution_count": 2,
      "metadata": {
        "id": "GEvME-xiP6Tf",
        "colab": {
          "base_uri": "https://localhost:8080/"
        },
        "outputId": "eb04cb30-bac9-48cc-c403-378a75757ff5"
      },
      "outputs": [
        {
          "output_type": "stream",
          "name": "stdout",
          "text": [
            "Collecting pyroomacoustics\n",
            "  Downloading pyroomacoustics-0.6.0.tar.gz (1.1 MB)\n",
            "\u001b[?25l\r\u001b[K     |▎                               | 10 kB 22.1 MB/s eta 0:00:01\r\u001b[K     |▋                               | 20 kB 14.2 MB/s eta 0:00:01\r\u001b[K     |█                               | 30 kB 10.1 MB/s eta 0:00:01\r\u001b[K     |█▎                              | 40 kB 9.0 MB/s eta 0:00:01\r\u001b[K     |█▌                              | 51 kB 4.4 MB/s eta 0:00:01\r\u001b[K     |█▉                              | 61 kB 5.3 MB/s eta 0:00:01\r\u001b[K     |██▏                             | 71 kB 5.6 MB/s eta 0:00:01\r\u001b[K     |██▌                             | 81 kB 5.8 MB/s eta 0:00:01\r\u001b[K     |██▉                             | 92 kB 6.4 MB/s eta 0:00:01\r\u001b[K     |███                             | 102 kB 5.0 MB/s eta 0:00:01\r\u001b[K     |███▍                            | 112 kB 5.0 MB/s eta 0:00:01\r\u001b[K     |███▊                            | 122 kB 5.0 MB/s eta 0:00:01\r\u001b[K     |████                            | 133 kB 5.0 MB/s eta 0:00:01\r\u001b[K     |████▎                           | 143 kB 5.0 MB/s eta 0:00:01\r\u001b[K     |████▋                           | 153 kB 5.0 MB/s eta 0:00:01\r\u001b[K     |█████                           | 163 kB 5.0 MB/s eta 0:00:01\r\u001b[K     |█████▎                          | 174 kB 5.0 MB/s eta 0:00:01\r\u001b[K     |█████▋                          | 184 kB 5.0 MB/s eta 0:00:01\r\u001b[K     |█████▉                          | 194 kB 5.0 MB/s eta 0:00:01\r\u001b[K     |██████▏                         | 204 kB 5.0 MB/s eta 0:00:01\r\u001b[K     |██████▌                         | 215 kB 5.0 MB/s eta 0:00:01\r\u001b[K     |██████▉                         | 225 kB 5.0 MB/s eta 0:00:01\r\u001b[K     |███████                         | 235 kB 5.0 MB/s eta 0:00:01\r\u001b[K     |███████▍                        | 245 kB 5.0 MB/s eta 0:00:01\r\u001b[K     |███████▊                        | 256 kB 5.0 MB/s eta 0:00:01\r\u001b[K     |████████                        | 266 kB 5.0 MB/s eta 0:00:01\r\u001b[K     |████████▍                       | 276 kB 5.0 MB/s eta 0:00:01\r\u001b[K     |████████▋                       | 286 kB 5.0 MB/s eta 0:00:01\r\u001b[K     |█████████                       | 296 kB 5.0 MB/s eta 0:00:01\r\u001b[K     |█████████▎                      | 307 kB 5.0 MB/s eta 0:00:01\r\u001b[K     |█████████▋                      | 317 kB 5.0 MB/s eta 0:00:01\r\u001b[K     |█████████▉                      | 327 kB 5.0 MB/s eta 0:00:01\r\u001b[K     |██████████▏                     | 337 kB 5.0 MB/s eta 0:00:01\r\u001b[K     |██████████▌                     | 348 kB 5.0 MB/s eta 0:00:01\r\u001b[K     |██████████▉                     | 358 kB 5.0 MB/s eta 0:00:01\r\u001b[K     |███████████▏                    | 368 kB 5.0 MB/s eta 0:00:01\r\u001b[K     |███████████▍                    | 378 kB 5.0 MB/s eta 0:00:01\r\u001b[K     |███████████▊                    | 389 kB 5.0 MB/s eta 0:00:01\r\u001b[K     |████████████                    | 399 kB 5.0 MB/s eta 0:00:01\r\u001b[K     |████████████▍                   | 409 kB 5.0 MB/s eta 0:00:01\r\u001b[K     |████████████▋                   | 419 kB 5.0 MB/s eta 0:00:01\r\u001b[K     |█████████████                   | 430 kB 5.0 MB/s eta 0:00:01\r\u001b[K     |█████████████▎                  | 440 kB 5.0 MB/s eta 0:00:01\r\u001b[K     |█████████████▋                  | 450 kB 5.0 MB/s eta 0:00:01\r\u001b[K     |██████████████                  | 460 kB 5.0 MB/s eta 0:00:01\r\u001b[K     |██████████████▏                 | 471 kB 5.0 MB/s eta 0:00:01\r\u001b[K     |██████████████▌                 | 481 kB 5.0 MB/s eta 0:00:01\r\u001b[K     |██████████████▉                 | 491 kB 5.0 MB/s eta 0:00:01\r\u001b[K     |███████████████▏                | 501 kB 5.0 MB/s eta 0:00:01\r\u001b[K     |███████████████▍                | 512 kB 5.0 MB/s eta 0:00:01\r\u001b[K     |███████████████▊                | 522 kB 5.0 MB/s eta 0:00:01\r\u001b[K     |████████████████                | 532 kB 5.0 MB/s eta 0:00:01\r\u001b[K     |████████████████▍               | 542 kB 5.0 MB/s eta 0:00:01\r\u001b[K     |████████████████▊               | 552 kB 5.0 MB/s eta 0:00:01\r\u001b[K     |█████████████████               | 563 kB 5.0 MB/s eta 0:00:01\r\u001b[K     |█████████████████▎              | 573 kB 5.0 MB/s eta 0:00:01\r\u001b[K     |█████████████████▋              | 583 kB 5.0 MB/s eta 0:00:01\r\u001b[K     |██████████████████              | 593 kB 5.0 MB/s eta 0:00:01\r\u001b[K     |██████████████████▏             | 604 kB 5.0 MB/s eta 0:00:01\r\u001b[K     |██████████████████▌             | 614 kB 5.0 MB/s eta 0:00:01\r\u001b[K     |██████████████████▉             | 624 kB 5.0 MB/s eta 0:00:01\r\u001b[K     |███████████████████▏            | 634 kB 5.0 MB/s eta 0:00:01\r\u001b[K     |███████████████████▌            | 645 kB 5.0 MB/s eta 0:00:01\r\u001b[K     |███████████████████▊            | 655 kB 5.0 MB/s eta 0:00:01\r\u001b[K     |████████████████████            | 665 kB 5.0 MB/s eta 0:00:01\r\u001b[K     |████████████████████▍           | 675 kB 5.0 MB/s eta 0:00:01\r\u001b[K     |████████████████████▊           | 686 kB 5.0 MB/s eta 0:00:01\r\u001b[K     |█████████████████████           | 696 kB 5.0 MB/s eta 0:00:01\r\u001b[K     |█████████████████████▎          | 706 kB 5.0 MB/s eta 0:00:01\r\u001b[K     |█████████████████████▋          | 716 kB 5.0 MB/s eta 0:00:01\r\u001b[K     |██████████████████████          | 727 kB 5.0 MB/s eta 0:00:01\r\u001b[K     |██████████████████████▎         | 737 kB 5.0 MB/s eta 0:00:01\r\u001b[K     |██████████████████████▌         | 747 kB 5.0 MB/s eta 0:00:01\r\u001b[K     |██████████████████████▉         | 757 kB 5.0 MB/s eta 0:00:01\r\u001b[K     |███████████████████████▏        | 768 kB 5.0 MB/s eta 0:00:01\r\u001b[K     |███████████████████████▌        | 778 kB 5.0 MB/s eta 0:00:01\r\u001b[K     |███████████████████████▊        | 788 kB 5.0 MB/s eta 0:00:01\r\u001b[K     |████████████████████████        | 798 kB 5.0 MB/s eta 0:00:01\r\u001b[K     |████████████████████████▍       | 808 kB 5.0 MB/s eta 0:00:01\r\u001b[K     |████████████████████████▊       | 819 kB 5.0 MB/s eta 0:00:01\r\u001b[K     |█████████████████████████       | 829 kB 5.0 MB/s eta 0:00:01\r\u001b[K     |█████████████████████████▎      | 839 kB 5.0 MB/s eta 0:00:01\r\u001b[K     |█████████████████████████▋      | 849 kB 5.0 MB/s eta 0:00:01\r\u001b[K     |██████████████████████████      | 860 kB 5.0 MB/s eta 0:00:01\r\u001b[K     |██████████████████████████▎     | 870 kB 5.0 MB/s eta 0:00:01\r\u001b[K     |██████████████████████████▋     | 880 kB 5.0 MB/s eta 0:00:01\r\u001b[K     |██████████████████████████▉     | 890 kB 5.0 MB/s eta 0:00:01\r\u001b[K     |███████████████████████████▏    | 901 kB 5.0 MB/s eta 0:00:01\r\u001b[K     |███████████████████████████▌    | 911 kB 5.0 MB/s eta 0:00:01\r\u001b[K     |███████████████████████████▉    | 921 kB 5.0 MB/s eta 0:00:01\r\u001b[K     |████████████████████████████    | 931 kB 5.0 MB/s eta 0:00:01\r\u001b[K     |████████████████████████████▍   | 942 kB 5.0 MB/s eta 0:00:01\r\u001b[K     |████████████████████████████▊   | 952 kB 5.0 MB/s eta 0:00:01\r\u001b[K     |█████████████████████████████   | 962 kB 5.0 MB/s eta 0:00:01\r\u001b[K     |█████████████████████████████▍  | 972 kB 5.0 MB/s eta 0:00:01\r\u001b[K     |█████████████████████████████▋  | 983 kB 5.0 MB/s eta 0:00:01\r\u001b[K     |██████████████████████████████  | 993 kB 5.0 MB/s eta 0:00:01\r\u001b[K     |██████████████████████████████▎ | 1.0 MB 5.0 MB/s eta 0:00:01\r\u001b[K     |██████████████████████████████▋ | 1.0 MB 5.0 MB/s eta 0:00:01\r\u001b[K     |██████████████████████████████▉ | 1.0 MB 5.0 MB/s eta 0:00:01\r\u001b[K     |███████████████████████████████▏| 1.0 MB 5.0 MB/s eta 0:00:01\r\u001b[K     |███████████████████████████████▌| 1.0 MB 5.0 MB/s eta 0:00:01\r\u001b[K     |███████████████████████████████▉| 1.1 MB 5.0 MB/s eta 0:00:01\r\u001b[K     |████████████████████████████████| 1.1 MB 5.0 MB/s \n",
            "\u001b[?25h  Installing build dependencies ... \u001b[?25l\u001b[?25hdone\n",
            "  Getting requirements to build wheel ... \u001b[?25l\u001b[?25hdone\n",
            "    Preparing wheel metadata ... \u001b[?25l\u001b[?25hdone\n",
            "Requirement already satisfied: scipy>=0.18.0 in /usr/local/lib/python3.7/dist-packages (from pyroomacoustics) (1.4.1)\n",
            "Requirement already satisfied: Cython in /usr/local/lib/python3.7/dist-packages (from pyroomacoustics) (0.29.28)\n",
            "Collecting pybind11>=2.2\n",
            "  Using cached pybind11-2.9.1-py2.py3-none-any.whl (211 kB)\n",
            "Requirement already satisfied: numpy in /usr/local/lib/python3.7/dist-packages (from pyroomacoustics) (1.21.5)\n",
            "Building wheels for collected packages: pyroomacoustics\n",
            "  Building wheel for pyroomacoustics (PEP 517) ... \u001b[?25l\u001b[?25hdone\n",
            "  Created wheel for pyroomacoustics: filename=pyroomacoustics-0.6.0-cp37-cp37m-linux_x86_64.whl size=9768039 sha256=dbbf73a92de3a31ef92a7f2ba8f9290379798a45aa10cf440c0db438ba67bb0d\n",
            "  Stored in directory: /root/.cache/pip/wheels/4f/4b/d9/089980483d6e617e61fceb2a0a94760d7beabc445bf0de761e\n",
            "Successfully built pyroomacoustics\n",
            "Installing collected packages: pybind11, pyroomacoustics\n",
            "Successfully installed pybind11-2.9.1 pyroomacoustics-0.6.0\n"
          ]
        }
      ],
      "source": [
        "!pip3 install pyroomacoustics\n",
        "import pyroomacoustics\n"
      ]
    },
    {
      "cell_type": "code",
      "source": [
        "print('test')"
      ],
      "metadata": {
        "colab": {
          "base_uri": "https://localhost:8080/"
        },
        "id": "mfYdDqm4clxQ",
        "outputId": "be14a834-8f49-4dcd-d350-33e3754e2755"
      },
      "execution_count": 3,
      "outputs": [
        {
          "output_type": "stream",
          "name": "stdout",
          "text": [
            "test\n"
          ]
        }
      ]
    },
    {
      "cell_type": "code",
      "source": [
        ""
      ],
      "metadata": {
        "id": "ZnfII8mOcnpZ"
      },
      "execution_count": null,
      "outputs": []
    },
    {
      "cell_type": "markdown",
      "source": [
        ""
      ],
      "metadata": {
        "id": "nBOPlcShZKpU"
      }
    }
  ]
}