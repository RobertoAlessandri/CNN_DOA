{
  "nbformat": 4,
  "nbformat_minor": 0,
  "metadata": {
    "colab": {
      "name": "dataset_generation.ipynb",
      "provenance": [],
      "collapsed_sections": [],
      "include_colab_link": true
    },
    "kernelspec": {
      "name": "python3",
      "display_name": "Python 3"
    },
    "language_info": {
      "name": "python"
    }
  },
  "cells": [
    {
      "cell_type": "markdown",
      "metadata": {
        "id": "view-in-github",
        "colab_type": "text"
      },
      "source": [
        "<a href=\"https://colab.research.google.com/github/RobertoAlessandri/CNN_DOA/blob/main/dataset_generation.ipynb\" target=\"_parent\"><img src=\"https://colab.research.google.com/assets/colab-badge.svg\" alt=\"Open In Colab\"/></a>"
      ]
    },
    {
      "cell_type": "code",
      "execution_count": 11,
      "metadata": {
        "id": "GEvME-xiP6Tf",
        "colab": {
          "base_uri": "https://localhost:8080/"
        },
        "outputId": "1311d823-b29b-4f48-d549-c61adff35b9e"
      },
      "outputs": [
        {
          "output_type": "stream",
          "name": "stdout",
          "text": [
            "Collecting pyroomacoustics\n",
            "  Downloading pyroomacoustics-0.6.0.tar.gz (1.1 MB)\n",
            "\u001b[K     |████████████████████████████████| 1.1 MB 4.3 MB/s \n",
            "\u001b[?25h  Installing build dependencies ... \u001b[?25l\u001b[?25hdone\n",
            "  Getting requirements to build wheel ... \u001b[?25l\u001b[?25hdone\n",
            "    Preparing wheel metadata ... \u001b[?25l\u001b[?25hdone\n",
            "Requirement already satisfied: Cython in /usr/local/lib/python3.7/dist-packages (from pyroomacoustics) (0.29.28)\n",
            "Collecting pybind11>=2.2\n",
            "  Using cached pybind11-2.9.2-py2.py3-none-any.whl (213 kB)\n",
            "Requirement already satisfied: numpy in /usr/local/lib/python3.7/dist-packages (from pyroomacoustics) (1.21.5)\n",
            "Requirement already satisfied: scipy>=0.18.0 in /usr/local/lib/python3.7/dist-packages (from pyroomacoustics) (1.4.1)\n",
            "Building wheels for collected packages: pyroomacoustics\n",
            "  Building wheel for pyroomacoustics (PEP 517) ... \u001b[?25l\u001b[?25hdone\n",
            "  Created wheel for pyroomacoustics: filename=pyroomacoustics-0.6.0-cp37-cp37m-linux_x86_64.whl size=9774128 sha256=4b948f71aacf982438e4a6bc71c149eb613b544986a3f04175afa0c69b43978e\n",
            "  Stored in directory: /root/.cache/pip/wheels/4f/4b/d9/089980483d6e617e61fceb2a0a94760d7beabc445bf0de761e\n",
            "Successfully built pyroomacoustics\n",
            "Installing collected packages: pybind11, pyroomacoustics\n",
            "Successfully installed pybind11-2.9.2 pyroomacoustics-0.6.0\n"
          ]
        }
      ],
      "source": [
        "!pip3 install pyroomacoustics\n",
        "import pyroomacoustics\n"
      ]
    },
    {
      "cell_type": "code",
      "source": [
        "from google.colab import drive\n",
        "drive.mount('/content/drive')"
      ],
      "metadata": {
        "colab": {
          "base_uri": "https://localhost:8080/"
        },
        "id": "aI5JeL-_G3GC",
        "outputId": "be6e069f-8a3d-4d9e-91fe-2717f4dd3705"
      },
      "execution_count": 16,
      "outputs": [
        {
          "output_type": "stream",
          "name": "stdout",
          "text": [
            "Drive already mounted at /content/drive; to attempt to forcibly remount, call drive.mount(\"/content/drive\", force_remount=True).\n"
          ]
        }
      ]
    },
    {
      "cell_type": "code",
      "source": [
        "%ls /content/drive/MyDrive/Github/CNN_DOA/TIMIT/"
      ],
      "metadata": {
        "colab": {
          "base_uri": "https://localhost:8080/"
        },
        "id": "mfYdDqm4clxQ",
        "outputId": "14ef4f79-2167-4f0c-cc04-5dd9f056fead"
      },
      "execution_count": 21,
      "outputs": [
        {
          "output_type": "stream",
          "name": "stdout",
          "text": [
            "\u001b[0m\u001b[01;34mDOC\u001b[0m/  README.DOC  \u001b[01;34mTEST\u001b[0m/  \u001b[01;34mTRAIN\u001b[0m/\n"
          ]
        }
      ]
    },
    {
      "cell_type": "code",
      "source": [
        "print('bella')"
      ],
      "metadata": {
        "id": "ZnfII8mOcnpZ"
      },
      "execution_count": 13,
      "outputs": []
    },
    {
      "cell_type": "markdown",
      "source": [
        ""
      ],
      "metadata": {
        "id": "nBOPlcShZKpU"
      }
    }
  ]
}