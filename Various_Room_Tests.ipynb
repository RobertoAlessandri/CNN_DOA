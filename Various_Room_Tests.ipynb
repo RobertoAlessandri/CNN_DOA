{
  "cells": [
    {
      "cell_type": "markdown",
      "metadata": {
        "id": "view-in-github",
        "colab_type": "text"
      },
      "source": [
        "<a href=\"https://colab.research.google.com/github/RobertoAlessandri/CNN_DOA/blob/main/Various_Room_Tests.ipynb\" target=\"_parent\"><img src=\"https://colab.research.google.com/assets/colab-badge.svg\" alt=\"Open In Colab\"/></a>"
      ]
    },
    {
      "cell_type": "markdown",
      "source": [
        "This notebook is based on the paper *Deep learning assisted sound source localization using two orthogonal first-order differential microphone arrays* [Nian Liu, Huawei Chen, Kunkun Songgong, et al]. Features and networks' architectures are a direct implementation of the methods discussed in that paper, refer to it for a detailed explanation."
      ],
      "metadata": {
        "id": "-eEmL2ddUdaR"
      }
    },
    {
      "cell_type": "markdown",
      "source": [
        "In particular, in this notebook we explore the generalization properties of the NNs:\n",
        "\n",
        "* **Model for resolution 30°**: https://drive.google.com/drive/folders/1vfMAvJECAkNPA6yMZTZlBgEz5T0uRLjF?usp=sharing \n",
        "\n",
        "* **Model for resolution 10°**: https://drive.google.com/drive/folders/1hWLM7Omebq4AG1-U4RkYXROunNbwzj7Y?usp=sharing\n",
        "\n",
        "\\\n",
        "By testing their ability to adapt to the following conditions:\n",
        "\n",
        "*   **Room volume:** changing room volume while mantaining the same shape\n",
        "*   **Source distance:** changing the distance (radially) of the sources from the microphones\n",
        "*   **Receiver position:** changing the receivers' position by moving it from the center of the room to the top-right corner, near the floor\n",
        "\n",
        "\n"
      ],
      "metadata": {
        "id": "6CJqZaRCUARQ"
      }
    },
    {
      "cell_type": "markdown",
      "source": [
        "## Imports and auxiliary functions"
      ],
      "metadata": {
        "id": "gIrbHifYF9bQ"
      }
    },
    {
      "cell_type": "markdown",
      "source": [
        "In this section we import the libraries, define some useful functions, and load the models."
      ],
      "metadata": {
        "id": "HJS_HTo8ZNAe"
      }
    },
    {
      "cell_type": "code",
      "execution_count": null,
      "metadata": {
        "colab": {
          "base_uri": "https://localhost:8080/"
        },
        "id": "lfnCXs4xEHoq",
        "outputId": "fc784445-853f-4e65-a990-5f4815cfdf15"
      },
      "outputs": [
        {
          "output_type": "stream",
          "name": "stdout",
          "text": [
            "2.8.2\n"
          ]
        }
      ],
      "source": [
        "import numpy as np\n",
        "import matplotlib.pyplot as plt\n",
        "import librosa, librosa.display\n",
        "import IPython.display as ipd\n",
        "from pathlib import Path\n",
        "from tqdm import tqdm # Progress bar\n",
        "import sklearn\n",
        "import re \n",
        "import os\n",
        "import csv  \n",
        "\n",
        "plt.style.use('seaborn')\n",
        "\n",
        "from __future__ import absolute_import, division, print_function, unicode_literals\n",
        "\n",
        "try:\n",
        "  # %tensorflow_version only exists in Colab.\n",
        "  %tensorflow_version 2.x\n",
        "except Exception:\n",
        "  pass\n",
        "import tensorflow as tf\n",
        "\n",
        "from tensorflow import keras\n",
        "\n",
        "print(tf.__version__)"
      ]
    },
    {
      "cell_type": "code",
      "execution_count": null,
      "metadata": {
        "colab": {
          "base_uri": "https://localhost:8080/"
        },
        "id": "XLaPAXFxErbg",
        "outputId": "b8329b7b-d2ba-4a03-db9e-a391ba82bab8"
      },
      "outputs": [
        {
          "output_type": "stream",
          "name": "stdout",
          "text": [
            "Mounted at /content/drive\n"
          ]
        }
      ],
      "source": [
        "from google.colab import drive\n",
        "drive.mount('/content/drive', force_remount=True)"
      ]
    },
    {
      "cell_type": "code",
      "execution_count": null,
      "metadata": {
        "id": "VTia0dJGDgJd"
      },
      "outputs": [],
      "source": [
        "# Generate a matrix containing audio data as columns\n",
        "# This function assumes the alphanumerical ordering of the filepaths\n",
        "def extractAudiodata(filepaths, sample_len):\n",
        "  sentencesNum = int(len(filepaths)/4) # Number of sentences\n",
        "  sentencesId = np.zeros([sentencesNum, 1]) # Array containing all the sentences' ID\n",
        "  labels30 = np.zeros(sentencesId.shape) # Lables for the model with resolution 30°\n",
        "  labels10 = np.zeros(sentencesId.shape) # Lables for the model with resolution 10°\n",
        "\n",
        "  # Ouput audio matrix N*M*L\n",
        "  # N : Length of the audio files in number of samples\n",
        "  # M : Number of microphones\n",
        "  # L : Number of sentences\n",
        "  audioSignals = np.zeros([int(sample_len), 4, sentencesNum]) \n",
        "  \n",
        "\n",
        "  j = 0 # j is indexing sentences, range: [0, sentencesNum - 1]\n",
        "  for i in range(0, len(filepaths), 4): # i is indexing samples, range: [0, len(filepath)] with step 4\n",
        "    # Selecting the four microphones' input for a given sentence\n",
        "    micsABCD = filepaths[i:i+4]\n",
        " \n",
        "    for k in range(0, len(micsABCD)): # k is indexing mics, range: [0,3]\n",
        "      # Populating the ouptut matrix\n",
        "      # Loading k-th microphone's input of the j-th sentence as a column vector\n",
        "      audioSignals[:, k, j] = librosa.load(micsABCD[k], sr=None)[0]\n",
        "\n",
        "    # Extracting labels and sentence id from the sample relative to the first microphone\n",
        "    fileid = micsABCD[0].split('.wav')[-2]\n",
        "    sentencesId[j] = fileid.split('-')[-3]\n",
        "    labels30[j] = fileid.split('-')[-2]\n",
        "    labels10[j] = fileid.split('-')[-1]\n",
        "\n",
        "    # Increasing sentence's index\n",
        "    j += 1\n",
        "\n",
        "\n",
        "  return audioSignals, sentencesId, labels30, labels10"
      ]
    },
    {
      "cell_type": "code",
      "execution_count": null,
      "metadata": {
        "id": "FD1TT26iF7Gs"
      },
      "outputs": [],
      "source": [
        "# This function sorts alphanumerically the list l\n",
        "def sorted_nicely(l):\n",
        "    convert = lambda text: int(text) if text.isdigit() else text\n",
        "    alphanum_key = lambda key: [convert(c) for c in re.split('([0-9]+)', key)]\n",
        "    \n",
        "    return sorted(l, key = alphanum_key)"
      ]
    },
    {
      "cell_type": "code",
      "execution_count": null,
      "metadata": {
        "id": "UAbN0o68EWw-"
      },
      "outputs": [],
      "source": [
        "# Sound Intensity (SI) estimation \n",
        "def computeSI(X1, X2, X3, freqsMatrix, isOblique=False, X4=0,  d=0.04, rho=1.225, beta=1e6):\n",
        "  denominator = (freqsMatrix)*d*rho\n",
        "\n",
        "  if isOblique:\n",
        "    # Paricle velocity estimation in TF-domain relative to subarrays' directions (pi/4, 3/4pi, -pi/4, -3/4pi)\n",
        "    X0 = (X1 + X2 + X3) / 3\n",
        "    V1 = (np.sqrt(2)*1j*(X2 - X1)) / denominator\n",
        "    V2 = (np.sqrt(2)*1j*(X2 - X3)) / denominator\n",
        "  else:\n",
        "    # Paricle velocity estimation in TF-domain relative to principal directions (x and y)\n",
        "    X0 = (X1 + X2 + X3 + X4) / 4\n",
        "    V1 = (1j*(X3 - X1)) / denominator\n",
        "    V2 = (1j*(X4 - X2)) / denominator\n",
        "\n",
        "  # Witheningh weight\n",
        "  W = (np.abs(X0)**2 + beta*(np.abs(V1)**2 + np.abs(V2)**2) )**0.5 + np.finfo(np.float32).eps\n",
        "\n",
        "  # Extracted SI features\n",
        "  I1 = (np.real(X0*np.conj(V1)) / W).T\n",
        "  I2 = (np.real(X0*np.conj(V2)) / W).T\n",
        "\n",
        "  # Grouping features into a matrix\n",
        "  matrix = np.zeros([I1.shape[0], I1.shape[1], 2])\n",
        "  matrix[:, :, 0] = I1\n",
        "  matrix[:, :, 1] = I2\n",
        "\n",
        "  return matrix"
      ]
    },
    {
      "cell_type": "code",
      "execution_count": null,
      "metadata": {
        "id": "sD6VzW5PEXR0"
      },
      "outputs": [],
      "source": [
        "# Compute the SI features for each designated DMA (Differential Microphone Array): principal directions + subarrays\n",
        "def featureExtractor2(micSignals, d=0.04, rho=1.225, NFFT=1024, sr=16000, beta=1e6):\n",
        "  # STFT variables\n",
        "  frame_length = NFFT\n",
        "  hop_length = int(frame_length/2) # 50% overlap\n",
        "  num_samples = micSignals[:,0].shape[0] # Length in samples\n",
        "  num_frames = int(1 + np.floor((num_samples - frame_length) / hop_length)) # Resulting number of frames\n",
        "\n",
        "  # freqMatrix is a matrix that contains the angular frequency axis repeated on each column\n",
        "  # It is used for the SI estimation \n",
        "  freqs = librosa.fft_frequencies(sr=sr, n_fft=NFFT) / (sr/2) * np.pi + np.finfo(np.float32).eps\n",
        "  freqs = np.reshape(freqs, (len(freqs),1))\n",
        "  freqsMatrix = np.tile(freqs, (1, num_frames))\n",
        "\n",
        "  # Init output matrix\n",
        "  gamma = np.zeros([num_frames, int(NFFT/2 - 1), 10])\n",
        "\n",
        "  # STFT microphones' signals\n",
        "  P1 = librosa.stft(micSignals[:,0], n_fft = NFFT, hop_length = hop_length, win_length = frame_length, window='hann', center=False)\n",
        "  P2 = librosa.stft(micSignals[:,1], n_fft = NFFT, hop_length = hop_length, win_length = frame_length, window='hann', center=False)\n",
        "  P3 = librosa.stft(micSignals[:,2], n_fft = NFFT, hop_length = hop_length, win_length = frame_length, window='hann', center=False)\n",
        "  P4 = librosa.stft(micSignals[:,3], n_fft = NFFT, hop_length = hop_length, win_length = frame_length, window='hann', center=False)\n",
        "\n",
        "  # Principal directions SI extraction \n",
        "  # First and last frequency bins are excluded because always equal to 0\n",
        "  gamma[:,:,0:2] = computeSI(P1, P2, P3, freqsMatrix, isOblique=False, X4=P4, d=d, rho=rho, beta=beta)[:,1:int(NFFT/2),0:2] \n",
        "  \n",
        "  # Subarrays SI extraction\n",
        "  gamma[:,:,2:4]  = computeSI(P4, P1, P2, freqsMatrix, isOblique=True, d=d, rho=rho, beta=beta)[:,1:int(NFFT/2),0:2]\n",
        "  gamma[:,:,4:6]  = computeSI(P1, P2, P3, freqsMatrix, isOblique=True, d=d, rho=rho, beta=beta)[:,1:int(NFFT/2),0:2]\n",
        "  gamma[:,:,6:8]  = computeSI(P2, P3, P4, freqsMatrix, isOblique=True, d=d, rho=rho, beta=beta)[:,1:int(NFFT/2),0:2]\n",
        "  gamma[:,:,8:10] = computeSI(P3, P4, P1, freqsMatrix, isOblique=True, d=d, rho=rho, beta=beta)[:,1:int(NFFT/2),0:2]\n",
        "\n",
        "  # Gamma is a 14*511*10 matrix where\n",
        "  #   - 14 is the number of frames\n",
        "  #   - 511 is the number of frequency bins\n",
        "  #   - 10 is the number of channels (SI for each DMA) \n",
        "\n",
        "  return gamma"
      ]
    },
    {
      "cell_type": "code",
      "execution_count": null,
      "metadata": {
        "id": "eK2RiGBZJ0di"
      },
      "outputs": [],
      "source": [
        "# This function evaluates the custom accuracity: adjacent classes are considered correct predictions\n",
        "def computeCustomAccuracy(Gamma_container_test, intTestLabels, resolution, model):\n",
        "  \n",
        "  # Predict\n",
        "  preds = model.predict(Gamma_container_test)\n",
        "\n",
        "  # Convert the predictions from one-hot to categorical\n",
        "  res = np.zeros([preds.shape[0]])\n",
        "  for i in range(0, preds.shape[0]):\n",
        "    predClass = np.argmax(preds[i])\n",
        "    res[i] = predClass\n",
        "\n",
        "  # Init custom accuracy\n",
        "  customAcc = 0\n",
        "\n",
        "  # Variables used to account for the cyclic nature of the problem\n",
        "  bottomLimitValue = int(360/resolution - 1)\n",
        "  upperLimitBound = int(360/resolution)\n",
        "\n",
        "  for i in range(0, res.shape[0]):\n",
        "    # Create a range we the prediction is considered correct: actual class +- 1\n",
        "    validRange = np.array([intTestLabels[i,0]-1, intTestLabels[i,0], intTestLabels[i,0]+1]).astype(int)\n",
        "\n",
        "    # Implementing modularity\n",
        "    for j in range(validRange.shape[0]):\n",
        "        if validRange[j] == -1: # If we go beyond the lowest class\n",
        "          validRange[j] = bottomLimitValue # Substitute with the highest\n",
        "        if validRange[j] == upperLimitBound: # If we go beyond the highest class\n",
        "          validRange[j] = 0 # Substitute with the lowest\n",
        "\n",
        "    # If the predicted value is in the designated range: correct prediction\n",
        "    if res[i] in validRange:\n",
        "      customAcc += 1\n",
        "\n",
        "  # Compute persentage\n",
        "  customAcc = customAcc / res.shape[0] * 100\n",
        "\n",
        "  return customAcc"
      ]
    },
    {
      "cell_type": "code",
      "source": [
        "# This function computes the default accuracy and the custom accuracy given the root folder of the test dataset\n",
        "def accuracyGenerator(rootdir, modelRes30, modelRes10, sr, duration):\n",
        "  # Extract all the subdirectories in rootdir\n",
        "  subdirs = sorted_nicely(os.listdir(rootdir))\n",
        "\n",
        "  # Generate the absolute path of the testing directories\n",
        "  testDirectories = []\n",
        "  for subdir in subdirs:\n",
        "    testDirectories.append(rootdir + '/' +  subdir)\n",
        "\n",
        "  # Init lists to contain all the accuracy values for the two models\n",
        "  accuraciesRes30 = [] # Default accuracy model res 30\n",
        "  customAccuraciesRes30 = [] # Custom accuracy model res 30\n",
        "  accuraciesRes10 = [] # Default accuracy model res 10\n",
        "  customAccuraciesRes10 = [] # Custom accuracy model res 10\n",
        "\n",
        "  for dir in testDirectories:\n",
        "    # Extract all the files' paths\n",
        "    audiofiles_test = [str(file) for file in Path(dir).glob('SA*.wav')]\n",
        "    audiofiles_test = sorted_nicely(audiofiles_test)\n",
        "\n",
        "    # Extract audio data and labels\n",
        "    testAudioMatrix, sourceIDs, testlabels30, testlabels10 = extractAudiodata(audiofiles_test, sr*duration)\n",
        "\n",
        "    # Cast labels as integers\n",
        "    intTestLabels30 = np.array(testlabels30, dtype='uint8')\n",
        "    intTestLabels10 = np.array(testlabels10, dtype='uint8')\n",
        "\n",
        "    # Extract the features\n",
        "    datapointsNum = testAudioMatrix.shape[-1]\n",
        "    Gamma_container_test = np.zeros([datapointsNum, 14, 511, 10])\n",
        "\n",
        "    for i in range(0, datapointsNum):\n",
        "      Gamma_container_test[i,:,:,:] = featureExtractor2(testAudioMatrix[:,:,i])\n",
        "\n",
        "    # Evaluate model res 30\n",
        "    evaluationRes30 = modelRes30.evaluate(Gamma_container_test, intTestLabels30)\n",
        "    accuraciesRes30.append(evaluationRes30[1] * 100)\n",
        "\n",
        "    customAccRes30 = computeCustomAccuracy(Gamma_container_test, intTestLabels30, 30, modelRes30)\n",
        "    customAccuraciesRes30.append(customAccRes30) \n",
        "\n",
        "    # Evaluate model res 10\n",
        "    evaluationRes10 = modelRes10.evaluate(Gamma_container_test, intTestLabels10)\n",
        "    accuraciesRes10.append(evaluationRes10[1] * 100)\n",
        "\n",
        "    customAccRes10 = computeCustomAccuracy(Gamma_container_test, intTestLabels10, 10, modelRes10)\n",
        "    customAccuraciesRes10.append(customAccRes10) \n",
        "\n",
        "  return accuraciesRes30, customAccuraciesRes30, accuraciesRes10, customAccuraciesRes10"
      ],
      "metadata": {
        "id": "-G2rkAc9HvmS"
      },
      "execution_count": null,
      "outputs": []
    },
    {
      "cell_type": "code",
      "execution_count": null,
      "metadata": {
        "id": "76AICJesEmX-"
      },
      "outputs": [],
      "source": [
        "# Models loading\n",
        "sr = 16000\n",
        "duration = 0.5\n",
        "\n",
        "optimizer = keras.optimizers.Adam(learning_rate=1e-5)\n",
        "\n",
        "modelRes30 = keras.models.load_model('/content/drive/MyDrive/Github/CNN_DOA/models/modelRes30')\n",
        "modelRes30.compile(optimizer=optimizer,\n",
        "              loss='sparse_categorical_crossentropy',\n",
        "              metrics=['accuracy']\n",
        ")\n",
        "\n",
        "modelRes10 = keras.models.load_model('/content/drive/MyDrive/Github/CNN_DOA/models/modelRes10')\n",
        "modelRes10.compile(optimizer=optimizer,\n",
        "              loss='sparse_categorical_crossentropy',\n",
        "              metrics=['accuracy']\n",
        ")"
      ]
    },
    {
      "cell_type": "markdown",
      "metadata": {
        "id": "BOcBOIwwRCe-"
      },
      "source": [
        "## Room volume"
      ]
    },
    {
      "cell_type": "markdown",
      "source": [
        "The room we used in simulation has dimension [9.64, 7.04, 2.95][m]. In order to maintain the same shape while varying the volume, we vary the dimension y while maintaining constant the ratios with the other two dimensions. The volume follows an exponential growth by linearly increasing the y dimension. Hence we use the y dimension as the parameter of our test instead of the volume."
      ],
      "metadata": {
        "id": "SaGrbFYybK0i"
      }
    },
    {
      "cell_type": "code",
      "source": [
        "room_dim = [9.64, 7.04, 2.95] # Initial room dimensions\n",
        "xy_ratio = room_dim[0] / room_dim[1] # x/y ratio\n",
        "zy_ratio = room_dim[2] / room_dim[1] # z/y ratio\n",
        "\n",
        "y_i = 1.6 # Initial value for the y-dim\n",
        "y_f = 15 # Final value for the y-dim\n",
        "y_steps = np.linspace(y_i, y_f, 20) # Subdividing testing range in 20 steps\n",
        "\n",
        "# Computing volumes for increasing y\n",
        "volumes = []\n",
        "for i in range(0, y_steps.shape[0]):\n",
        "  y = y_steps[i]\n",
        "  x = xy_ratio * y\n",
        "  z = zy_ratio * y\n",
        "  volumes.append(x*y*z)\n",
        "  print('Room {} has dimensions [{:.2f}, {:.2f}, {:.2f}][m] --> volume = {:.2f} [m^3]'.format(i+1, x, y, z, volumes[i]))"
      ],
      "metadata": {
        "colab": {
          "base_uri": "https://localhost:8080/"
        },
        "id": "-ATfDmbRLMPi",
        "outputId": "3f155942-de1b-4654-ce5f-72d518e847bf"
      },
      "execution_count": null,
      "outputs": [
        {
          "output_type": "stream",
          "name": "stdout",
          "text": [
            "Room 1 has dimensions [2.19, 1.60, 0.67][m] --> volume = 2.35 [m^3]\n",
            "Room 2 has dimensions [3.16, 2.31, 0.97][m] --> volume = 7.03 [m^3]\n",
            "Room 3 has dimensions [4.12, 3.01, 1.26][m] --> volume = 15.66 [m^3]\n",
            "Room 4 has dimensions [5.09, 3.72, 1.56][m] --> volume = 29.44 [m^3]\n",
            "Room 5 has dimensions [6.05, 4.42, 1.85][m] --> volume = 49.58 [m^3]\n",
            "Room 6 has dimensions [7.02, 5.13, 2.15][m] --> volume = 77.30 [m^3]\n",
            "Room 7 has dimensions [7.99, 5.83, 2.44][m] --> volume = 113.79 [m^3]\n",
            "Room 8 has dimensions [8.95, 6.54, 2.74][m] --> volume = 160.27 [m^3]\n",
            "Room 9 has dimensions [9.92, 7.24, 3.03][m] --> volume = 217.95 [m^3]\n",
            "Room 10 has dimensions [10.88, 7.95, 3.33][m] --> volume = 288.02 [m^3]\n",
            "Room 11 has dimensions [11.85, 8.65, 3.63][m] --> volume = 371.70 [m^3]\n",
            "Room 12 has dimensions [12.81, 9.36, 3.92][m] --> volume = 470.21 [m^3]\n",
            "Room 13 has dimensions [13.78, 10.06, 4.22][m] --> volume = 584.73 [m^3]\n",
            "Room 14 has dimensions [14.75, 10.77, 4.51][m] --> volume = 716.49 [m^3]\n",
            "Room 15 has dimensions [15.71, 11.47, 4.81][m] --> volume = 866.69 [m^3]\n",
            "Room 16 has dimensions [16.68, 12.18, 5.10][m] --> volume = 1036.53 [m^3]\n",
            "Room 17 has dimensions [17.64, 12.88, 5.40][m] --> volume = 1227.23 [m^3]\n",
            "Room 18 has dimensions [18.61, 13.59, 5.69][m] --> volume = 1440.00 [m^3]\n",
            "Room 19 has dimensions [19.57, 14.29, 5.99][m] --> volume = 1676.03 [m^3]\n",
            "Room 20 has dimensions [20.54, 15.00, 6.29][m] --> volume = 1936.54 [m^3]\n"
          ]
        }
      ]
    },
    {
      "cell_type": "code",
      "execution_count": null,
      "metadata": {
        "colab": {
          "base_uri": "https://localhost:8080/"
        },
        "id": "gPESxPU7Z77c",
        "outputId": "3d8fae30-a0b7-484d-8251-c0091321cbc4"
      },
      "outputs": [
        {
          "output_type": "stream",
          "name": "stderr",
          "text": [
            "/usr/local/lib/python3.7/dist-packages/librosa/util/utils.py:200: UserWarning: librosa.util.frame called with axis=-1 on a non-contiguous input. This will result in a copy.\n",
            "  \"on a non-contiguous input. This will result in a copy.\".format(axis)\n"
          ]
        },
        {
          "output_type": "stream",
          "name": "stdout",
          "text": [
            "4/4 [==============================] - 10s 37ms/step - loss: 24.3195 - accuracy: 0.2200\n",
            "4/4 [==============================] - 0s 12ms/step - loss: 16.9901 - accuracy: 0.0900\n",
            "4/4 [==============================] - 0s 14ms/step - loss: 3.6567 - accuracy: 0.6400\n",
            "4/4 [==============================] - 0s 13ms/step - loss: 13.8332 - accuracy: 0.1200\n",
            "4/4 [==============================] - 0s 13ms/step - loss: 3.6424 - accuracy: 0.7700\n",
            "4/4 [==============================] - 0s 14ms/step - loss: 9.8609 - accuracy: 0.2100\n",
            "4/4 [==============================] - 0s 13ms/step - loss: 3.1337 - accuracy: 0.6900\n",
            "4/4 [==============================] - 0s 14ms/step - loss: 9.0759 - accuracy: 0.1600\n",
            "4/4 [==============================] - 0s 14ms/step - loss: 2.3607 - accuracy: 0.7400\n",
            "4/4 [==============================] - 0s 14ms/step - loss: 9.1383 - accuracy: 0.1400\n",
            "4/4 [==============================] - 0s 14ms/step - loss: 2.1850 - accuracy: 0.7300\n",
            "4/4 [==============================] - 0s 14ms/step - loss: 8.4245 - accuracy: 0.1600\n",
            "4/4 [==============================] - 0s 14ms/step - loss: 2.6251 - accuracy: 0.7300\n",
            "4/4 [==============================] - 0s 13ms/step - loss: 7.3308 - accuracy: 0.1700\n",
            "4/4 [==============================] - 0s 13ms/step - loss: 1.8451 - accuracy: 0.7800\n",
            "4/4 [==============================] - 0s 13ms/step - loss: 9.7245 - accuracy: 0.1300\n",
            "4/4 [==============================] - 0s 15ms/step - loss: 1.0731 - accuracy: 0.8600\n",
            "4/4 [==============================] - 0s 13ms/step - loss: 6.4064 - accuracy: 0.3300\n",
            "4/4 [==============================] - 0s 14ms/step - loss: 2.7864 - accuracy: 0.7500\n",
            "4/4 [==============================] - 0s 14ms/step - loss: 10.1642 - accuracy: 0.1900\n",
            "4/4 [==============================] - 0s 14ms/step - loss: 2.6325 - accuracy: 0.7000\n",
            "4/4 [==============================] - 0s 14ms/step - loss: 8.9132 - accuracy: 0.2200\n",
            "4/4 [==============================] - 0s 13ms/step - loss: 2.3050 - accuracy: 0.7000\n",
            "4/4 [==============================] - 0s 13ms/step - loss: 10.0110 - accuracy: 0.1200\n",
            "4/4 [==============================] - 0s 13ms/step - loss: 2.8603 - accuracy: 0.7400\n",
            "4/4 [==============================] - 0s 14ms/step - loss: 7.6024 - accuracy: 0.2800\n",
            "4/4 [==============================] - 0s 14ms/step - loss: 4.4456 - accuracy: 0.6200\n",
            "4/4 [==============================] - 0s 13ms/step - loss: 8.8974 - accuracy: 0.1700\n",
            "4/4 [==============================] - 0s 14ms/step - loss: 3.0317 - accuracy: 0.6500\n",
            "4/4 [==============================] - 0s 14ms/step - loss: 10.0448 - accuracy: 0.2100\n",
            "4/4 [==============================] - 0s 13ms/step - loss: 3.1188 - accuracy: 0.6700\n",
            "4/4 [==============================] - 0s 14ms/step - loss: 11.0279 - accuracy: 0.1300\n",
            "4/4 [==============================] - 0s 13ms/step - loss: 3.3531 - accuracy: 0.7100\n",
            "4/4 [==============================] - 0s 14ms/step - loss: 9.4145 - accuracy: 0.2800\n",
            "4/4 [==============================] - 0s 13ms/step - loss: 4.3327 - accuracy: 0.5800\n",
            "4/4 [==============================] - 0s 13ms/step - loss: 12.0035 - accuracy: 0.0800\n",
            "4/4 [==============================] - 0s 13ms/step - loss: 4.1034 - accuracy: 0.6300\n",
            "4/4 [==============================] - 0s 14ms/step - loss: 11.5446 - accuracy: 0.1500\n",
            "4/4 [==============================] - 0s 13ms/step - loss: 2.3894 - accuracy: 0.7000\n",
            "4/4 [==============================] - 0s 14ms/step - loss: 9.6965 - accuracy: 0.1600\n"
          ]
        }
      ],
      "source": [
        "rootdir_RV = '/content/drive/MyDrive/Github/CNN_DOA/Dataset/ROOM_VOLUME'\n",
        "\n",
        "# Compute accuracies\n",
        "accRes30_RV, custAccRes30_RV, accRes10_RV, custAccRes10_RV = accuracyGenerator(rootdir_RV, modelRes30, modelRes10, sr, duration)"
      ]
    },
    {
      "cell_type": "code",
      "source": [
        "# Plotting the results\n",
        "plt.figure(figsize=(16,5))\n",
        "\n",
        "# Model res 10\n",
        "plt.subplot(1,2,1)\n",
        "plt.plot(y_steps, accRes10_RV)\n",
        "plt.plot(y_steps, custAccRes10_RV)\n",
        "plt.title('Model res 10° accuracy: room volume')\n",
        "plt.ylabel('accuracy')\n",
        "plt.xlabel('y length [m]')\n",
        "plt.ylim([0,100])\n",
        "plt.legend(['Accuracy', 'Custom Accuracy'], loc='upper left')\n",
        "\n",
        "# Model res 30\n",
        "plt.subplot(1,2,2)\n",
        "plt.plot(y_steps, accRes30_RV)\n",
        "plt.plot(y_steps, custAccRes30_RV)\n",
        "plt.title('Model res 30° accuracy: room volume')\n",
        "plt.ylabel('accuracy')\n",
        "plt.xlabel('y length [m]')\n",
        "plt.ylim([0,100])\n",
        "plt.legend(['Accuracy', 'Custom Accuracy'], loc='upper left')"
      ],
      "metadata": {
        "colab": {
          "base_uri": "https://localhost:8080/",
          "height": 334
        },
        "id": "t7HX2xBgc-P5",
        "outputId": "55cb4070-16ee-4953-9a36-f470ea1cb799"
      },
      "execution_count": null,
      "outputs": [
        {
          "output_type": "execute_result",
          "data": {
            "text/plain": [
              "<matplotlib.legend.Legend at 0x7fac586e0c50>"
            ]
          },
          "metadata": {},
          "execution_count": 12
        },
        {
          "output_type": "display_data",
          "data": {
            "text/plain": [
              "<Figure size 1152x360 with 2 Axes>"
            ],
            "image/png": "[encoded data removed]"
          },
          "metadata": {
            "needs_background": "light"
          }
        }
      ]
    },
    {
      "cell_type": "code",
      "source": [
        "%cd '/content/drive/MyDrive/Github/CNN_DOA/results_csv' "
      ],
      "metadata": {
        "colab": {
          "base_uri": "https://localhost:8080/"
        },
        "id": "0QFiV22anTMn",
        "outputId": "b93c9666-d117-46e2-802d-8ab44f2431cb"
      },
      "execution_count": null,
      "outputs": [
        {
          "output_type": "stream",
          "name": "stdout",
          "text": [
            "/content/drive/.shortcut-targets-by-id/1-B6wbQJimyIAQNh3Ccp578yl6uudDF9j/CNN_DOA/results_csv\n"
          ]
        }
      ]
    },
    {
      "cell_type": "code",
      "source": [
        "# Creating csv file for results\n",
        "header = ['test_range', 'accuracy'] # Columns' names\n",
        "\n",
        "# Exporting data for model res 30°\n",
        "with open('vol_res30.csv', 'w') as f:\n",
        "    writer = csv.writer(f)\n",
        "\n",
        "    # write the header\n",
        "    writer.writerow(header)\n",
        "\n",
        "    for i in range(0, len(custAccRes30_RV)):\n",
        "      row = [y_steps[i], custAccRes30_RV[i]]\n",
        "      # write the data\n",
        "      writer.writerow(row)\n",
        "\n",
        "# Exporting data for model res 10°\n",
        "with open('vol_res10.csv', 'w') as f:\n",
        "    writer = csv.writer(f)\n",
        "\n",
        "    # write the header\n",
        "    writer.writerow(header)\n",
        "\n",
        "    for i in range(0, len(custAccRes10_RV)):\n",
        "      row = [y_steps[i], custAccRes10_RV[i]]\n",
        "      # write the data\n",
        "      writer.writerow(row)"
      ],
      "metadata": {
        "id": "jXcikCbjm5bV"
      },
      "execution_count": null,
      "outputs": []
    },
    {
      "cell_type": "code",
      "source": [
        "# TESTING polynomial fitting (skip/remove)\n",
        "from scipy.signal import savgol_filter\n",
        "custAccRes10_RV = np.asarray(custAccRes10_RV)\n",
        "x = np.arange(0,20)\n",
        "y = custAccRes10_RV\n",
        "\n",
        "y_sav = savgol_filter(y, 5, 2)\n",
        "\n",
        "mymodel = np.poly1d(np.polyfit(x, y, 11))\n",
        "myline = np.linspace(0, 19, 100)\n",
        "plt.scatter(x, y)\n",
        "plt.plot(myline, mymodel(myline))\n",
        "plt.plot(y_sav)\n",
        "plt.ylim([0,100])\n",
        "plt.show() "
      ],
      "metadata": {
        "colab": {
          "base_uri": "https://localhost:8080/",
          "height": 269
        },
        "id": "yza5IW5Wi4dm",
        "outputId": "0d67532b-27a4-450c-8037-2da73685bc1f"
      },
      "execution_count": null,
      "outputs": [
        {
          "output_type": "display_data",
          "data": {
            "text/plain": [
              "<Figure size 432x288 with 1 Axes>"
            ],
            "image/png": "[encoded data removed]"
          },
          "metadata": {
            "needs_background": "light"
          }
        }
      ]
    },
    {
      "cell_type": "code",
      "source": [
        "# TESTING (skip)\n",
        "custAccRes30_RV = np.asarray(custAccRes30_RV)\n",
        "x = np.arange(0,20)\n",
        "y = custAccRes30_RV\n",
        "y_sav = savgol_filter(y, 11, 2)\n",
        "\n",
        "mymodel = np.poly1d(np.polyfit(x, y, 5))\n",
        "myline = np.linspace(0, 19, 100)\n",
        "plt.scatter(x, y)\n",
        "plt.plot(myline, mymodel(myline))\n",
        "plt.plot(y_sav)\n",
        "plt.ylim([0,105])\n",
        "plt.show() "
      ],
      "metadata": {
        "colab": {
          "base_uri": "https://localhost:8080/",
          "height": 265
        },
        "id": "1s91SIZ7mS8k",
        "outputId": "a76c547a-946b-4dd8-bb15-508eacbbde98"
      },
      "execution_count": null,
      "outputs": [
        {
          "output_type": "display_data",
          "data": {
            "text/plain": [
              "<Figure size 432x288 with 1 Axes>"
            ],
            "image/png": "[encoded data removed]"
          },
          "metadata": {
            "needs_background": "light"
          }
        }
      ]
    },
    {
      "cell_type": "markdown",
      "metadata": {
        "id": "0mkvRPmFMh7D"
      },
      "source": [
        "## Source distance"
      ]
    },
    {
      "cell_type": "markdown",
      "source": [
        "In this test we move radially the sources starting from near positions from the microphones' center to far positions.\n",
        "\n",
        "The range of the source distance goes from 0.14 [m] to 6.94 [m] subdivided in 20 equally spaced steps.d"
      ],
      "metadata": {
        "id": "_SHlsAU01sn3"
      }
    },
    {
      "cell_type": "code",
      "source": [
        "# Testing range\n",
        "source_distances = np.linspace(0.14, 6.94, num = 20)\n",
        "print(source_distances)"
      ],
      "metadata": {
        "colab": {
          "base_uri": "https://localhost:8080/"
        },
        "id": "z9gtfXIMBLP0",
        "outputId": "f31ae758-0431-4016-e6fb-d58a5690f460"
      },
      "execution_count": null,
      "outputs": [
        {
          "output_type": "stream",
          "name": "stdout",
          "text": [
            "[0.14       0.49789474 0.85578947 1.21368421 1.57157895 1.92947368\n",
            " 2.28736842 2.64526316 3.00315789 3.36105263 3.71894737 4.07684211\n",
            " 4.43473684 4.79263158 5.15052632 5.50842105 5.86631579 6.22421053\n",
            " 6.58210526 6.94      ]\n"
          ]
        }
      ]
    },
    {
      "cell_type": "code",
      "execution_count": null,
      "metadata": {
        "id": "5r_gJSKCMoqV",
        "colab": {
          "base_uri": "https://localhost:8080/"
        },
        "outputId": "264104f4-1318-40cf-c60c-51157b8368ab"
      },
      "outputs": [
        {
          "output_type": "stream",
          "name": "stderr",
          "text": [
            "/usr/local/lib/python3.7/dist-packages/librosa/util/utils.py:200: UserWarning: librosa.util.frame called with axis=-1 on a non-contiguous input. This will result in a copy.\n",
            "  \"on a non-contiguous input. This will result in a copy.\".format(axis)\n"
          ]
        },
        {
          "output_type": "stream",
          "name": "stdout",
          "text": [
            "4/4 [==============================] - 0s 13ms/step - loss: 19.4588 - accuracy: 0.0900\n",
            "4/4 [==============================] - 0s 13ms/step - loss: 15.3520 - accuracy: 0.0100\n",
            "4/4 [==============================] - 0s 13ms/step - loss: 21.2292 - accuracy: 0.0800\n",
            "4/4 [==============================] - 0s 13ms/step - loss: 13.9436 - accuracy: 0.0300\n",
            "4/4 [==============================] - 0s 14ms/step - loss: 18.5004 - accuracy: 0.1800\n",
            "4/4 [==============================] - 0s 13ms/step - loss: 13.4255 - accuracy: 0.0500\n",
            "4/4 [==============================] - 0s 13ms/step - loss: 20.9763 - accuracy: 0.1300\n",
            "4/4 [==============================] - 0s 14ms/step - loss: 13.5852 - accuracy: 0.0300\n",
            "4/4 [==============================] - 0s 14ms/step - loss: 16.5504 - accuracy: 0.1400\n",
            "4/4 [==============================] - 0s 14ms/step - loss: 12.3867 - accuracy: 0.0300\n",
            "4/4 [==============================] - 0s 14ms/step - loss: 19.9178 - accuracy: 0.0700\n",
            "4/4 [==============================] - 0s 13ms/step - loss: 12.1422 - accuracy: 0.0600\n",
            "4/4 [==============================] - 0s 14ms/step - loss: 22.9272 - accuracy: 0.0900\n",
            "4/4 [==============================] - 0s 14ms/step - loss: 13.3162 - accuracy: 0.0100\n",
            "4/4 [==============================] - 0s 13ms/step - loss: 17.7028 - accuracy: 0.1900\n",
            "4/4 [==============================] - 0s 13ms/step - loss: 12.5309 - accuracy: 0.0400\n",
            "4/4 [==============================] - 0s 13ms/step - loss: 16.1512 - accuracy: 0.1400\n",
            "4/4 [==============================] - 0s 14ms/step - loss: 11.8996 - accuracy: 0.0300\n",
            "4/4 [==============================] - 0s 13ms/step - loss: 14.7142 - accuracy: 0.1800\n",
            "4/4 [==============================] - 0s 15ms/step - loss: 9.9737 - accuracy: 0.0300\n",
            "4/4 [==============================] - 0s 13ms/step - loss: 11.7668 - accuracy: 0.3100\n",
            "4/4 [==============================] - 0s 14ms/step - loss: 10.2036 - accuracy: 0.0600\n",
            "4/4 [==============================] - 0s 13ms/step - loss: 10.1941 - accuracy: 0.2100\n",
            "4/4 [==============================] - 0s 13ms/step - loss: 10.5466 - accuracy: 0.0700\n",
            "4/4 [==============================] - 0s 13ms/step - loss: 9.6946 - accuracy: 0.2400\n",
            "4/4 [==============================] - 0s 13ms/step - loss: 9.7270 - accuracy: 0.0700\n",
            "4/4 [==============================] - 0s 13ms/step - loss: 11.0545 - accuracy: 0.2500\n",
            "4/4 [==============================] - 0s 14ms/step - loss: 9.2615 - accuracy: 0.1100\n",
            "4/4 [==============================] - 0s 15ms/step - loss: 10.5249 - accuracy: 0.2600\n",
            "4/4 [==============================] - 0s 13ms/step - loss: 9.7732 - accuracy: 0.0400\n",
            "4/4 [==============================] - 0s 13ms/step - loss: 9.3044 - accuracy: 0.2900\n",
            "4/4 [==============================] - 0s 14ms/step - loss: 8.9669 - accuracy: 0.0600\n",
            "4/4 [==============================] - 0s 16ms/step - loss: 10.8273 - accuracy: 0.2300\n",
            "4/4 [==============================] - 0s 14ms/step - loss: 10.3839 - accuracy: 0.0700\n",
            "4/4 [==============================] - 0s 14ms/step - loss: 8.0464 - accuracy: 0.3000\n",
            "4/4 [==============================] - 0s 13ms/step - loss: 9.8476 - accuracy: 0.0700\n",
            "4/4 [==============================] - 0s 13ms/step - loss: 10.4261 - accuracy: 0.2200\n",
            "4/4 [==============================] - 0s 13ms/step - loss: 10.7316 - accuracy: 0.0500\n",
            "4/4 [==============================] - 0s 14ms/step - loss: 11.2340 - accuracy: 0.1700\n",
            "4/4 [==============================] - 0s 13ms/step - loss: 10.5247 - accuracy: 0.0900\n"
          ]
        }
      ],
      "source": [
        "rootdir_SD = '/content/drive/MyDrive/Github/CNN_DOA/Dataset/SOURCE_DISTANCE'\n",
        "\n",
        "# Compute accuracies\n",
        "accRes30_SD, custAccRes30_SD, accRes10_SD, custAccRes10_SD = accuracyGenerator(rootdir_SD, modelRes30, modelRes10, sr, duration)"
      ]
    },
    {
      "cell_type": "code",
      "source": [
        "# Plotting results\n",
        "plt.figure(figsize=(16,5))\n",
        "\n",
        "# Model res 10\n",
        "plt.subplot(1,2,1)\n",
        "plt.plot(source_distances, accRes10_SD)\n",
        "plt.plot(source_distances, custAccRes10_SD)\n",
        "plt.title('Model res 10° accuracy: source distance')\n",
        "plt.ylabel('accuracy')\n",
        "plt.xlabel('distance from center [m]')\n",
        "plt.ylim([0,100])\n",
        "plt.legend(['Accuracy', 'Custom Accuracy'], loc='upper left')\n",
        "\n",
        "# Model res 30\n",
        "plt.subplot(1,2,2)\n",
        "plt.plot(source_distances, accRes30_SD)\n",
        "plt.plot(source_distances, custAccRes30_SD)\n",
        "plt.title('Model res 30° accuracy: source distance')\n",
        "plt.ylabel('accuracy')\n",
        "plt.xlabel('distance from center [m]')\n",
        "plt.ylim([0,100])\n",
        "plt.legend(['Accuracy', 'Custom Accuracy'], loc='upper left')"
      ],
      "metadata": {
        "colab": {
          "base_uri": "https://localhost:8080/",
          "height": 334
        },
        "id": "T5u8CRFmQIgO",
        "outputId": "8024402b-3c85-4e32-d592-f6307e9e21e7"
      },
      "execution_count": null,
      "outputs": [
        {
          "output_type": "execute_result",
          "data": {
            "text/plain": [
              "<matplotlib.legend.Legend at 0x7fac582409d0>"
            ]
          },
          "metadata": {},
          "execution_count": 19
        },
        {
          "output_type": "display_data",
          "data": {
            "text/plain": [
              "<Figure size 1152x360 with 2 Axes>"
            ],
            "image/png": "[encoded data removed]"
          },
          "metadata": {
            "needs_background": "light"
          }
        }
      ]
    },
    {
      "cell_type": "code",
      "source": [
        "%cd '/content/drive/MyDrive/Github/CNN_DOA/results_csv' "
      ],
      "metadata": {
        "colab": {
          "base_uri": "https://localhost:8080/"
        },
        "id": "Dzqr0gTuDSY-",
        "outputId": "e48e71a6-bbd3-4640-9939-c8dfecced664"
      },
      "execution_count": null,
      "outputs": [
        {
          "output_type": "stream",
          "name": "stdout",
          "text": [
            "/content/drive/.shortcut-targets-by-id/1-B6wbQJimyIAQNh3Ccp578yl6uudDF9j/CNN_DOA/results_csv\n"
          ]
        }
      ]
    },
    {
      "cell_type": "code",
      "source": [
        "# Creating csv file for results\n",
        "header = ['test_range', 'accuracy'] # Columns' names\n",
        "\n",
        "# Exporting data for model res 30°\n",
        "with open('source_res30.csv', 'w') as f:\n",
        "    writer = csv.writer(f)\n",
        "\n",
        "    # write the header\n",
        "    writer.writerow(header)\n",
        "\n",
        "    for i in range(0, len(custAccRes30_SD)):\n",
        "      row = [source_distances[i], custAccRes30_SD[i]]\n",
        "      # write the data\n",
        "      writer.writerow(row)\n",
        "\n",
        "# Exporting data for model res 10°\n",
        "with open('source_res10.csv', 'w') as f:\n",
        "    writer = csv.writer(f)\n",
        "\n",
        "    # write the header\n",
        "    writer.writerow(header)\n",
        "\n",
        "    for i in range(0, len(custAccRes10_SD)):\n",
        "      row = [source_distances[i], custAccRes10_SD[i]]\n",
        "      # write the data\n",
        "      writer.writerow(row)"
      ],
      "metadata": {
        "id": "FdvYI3Ga2ztp"
      },
      "execution_count": null,
      "outputs": []
    },
    {
      "cell_type": "markdown",
      "source": [
        "## Receiver position"
      ],
      "metadata": {
        "id": "HzsU6uWtOI50"
      }
    },
    {
      "cell_type": "markdown",
      "source": [
        "In this test we move the experimental strumentation from the center of the room at mid height to top-right corner at floor height.\n",
        "\n",
        "The range goes from the microphones' position of [4.82, 3.52, 1.5] [m] to [8, 5.4, 0.14] [m] subdivided in 20 equally spaced steps. As an unique parameter we use the distance from the first position."
      ],
      "metadata": {
        "id": "hpMC5RdZ2gJK"
      }
    },
    {
      "cell_type": "code",
      "source": [
        "p_i = [4.82, 3.52, 1.5] # Inital position\n",
        "p_f = [8, 5.4, 0.14] # Final position\n",
        "steps = 20 # Number of subdivisions\n",
        "# Spanning over the three dimensions\n",
        "positions = np.asarray([np.linspace(p_i[0], p_f[0], steps), np.linspace(p_i[1], p_f[1], steps), np.linspace(p_i[2], p_f[2], steps)]).T\n",
        "\n",
        "# Computing the distances from p_i, first position\n",
        "distances = []\n",
        "for pos in positions:\n",
        "  # Euclidean distance\n",
        "  dist = np.sqrt(np.power(p_i[0] - pos[0], 2) + np.power(p_i[0] - pos[0], 2) + np.power(p_i[0] - pos[0], 2))\n",
        "  distances.append(dist)\n",
        "\n",
        "print(distances)"
      ],
      "metadata": {
        "colab": {
          "base_uri": "https://localhost:8080/"
        },
        "id": "b1r8XAwpA8DS",
        "outputId": "57a700a9-3eae-4974-c98c-1163af3bd4cd"
      },
      "execution_count": null,
      "outputs": [
        {
          "output_type": "stream",
          "name": "stdout",
          "text": [
            "[0.0, 0.2898906088457385, 0.579781217691477, 0.8696718265372154, 1.159562435382954, 1.4494530442286924, 1.7393436530744308, 2.029234261920168, 2.319124870765908, 2.6090154796116445, 2.8989060884573847, 3.1887966973031214, 3.47868730614886, 3.7685779149945984, 4.058468523840337, 4.348359132686075, 4.638249741531814, 4.928140350377553, 5.218030959223291, 5.507921568069029]\n"
          ]
        }
      ]
    },
    {
      "cell_type": "code",
      "execution_count": null,
      "metadata": {
        "colab": {
          "base_uri": "https://localhost:8080/"
        },
        "outputId": "2287c79e-24f2-44aa-e14b-f03541bc6839",
        "id": "Q01uNZrrjYHB"
      },
      "outputs": [
        {
          "output_type": "stream",
          "name": "stderr",
          "text": [
            "/usr/local/lib/python3.7/dist-packages/librosa/util/utils.py:200: UserWarning: librosa.util.frame called with axis=-1 on a non-contiguous input. This will result in a copy.\n",
            "  \"on a non-contiguous input. This will result in a copy.\".format(axis)\n"
          ]
        },
        {
          "output_type": "stream",
          "name": "stdout",
          "text": [
            "4/4 [==============================] - 0s 13ms/step - loss: 0.5943 - accuracy: 0.9200\n",
            "4/4 [==============================] - 0s 14ms/step - loss: 0.4490 - accuracy: 0.9100\n",
            "4/4 [==============================] - 0s 14ms/step - loss: 3.2169 - accuracy: 0.7400\n",
            "4/4 [==============================] - 0s 14ms/step - loss: 10.1942 - accuracy: 0.1400\n",
            "4/4 [==============================] - 0s 14ms/step - loss: 3.1946 - accuracy: 0.6600\n",
            "4/4 [==============================] - 0s 14ms/step - loss: 10.3495 - accuracy: 0.0800\n",
            "4/4 [==============================] - 0s 14ms/step - loss: 2.8187 - accuracy: 0.6800\n",
            "4/4 [==============================] - 0s 13ms/step - loss: 7.5978 - accuracy: 0.2300\n",
            "4/4 [==============================] - 0s 14ms/step - loss: 2.3202 - accuracy: 0.7500\n",
            "4/4 [==============================] - 0s 15ms/step - loss: 7.8493 - accuracy: 0.1800\n",
            "4/4 [==============================] - 0s 13ms/step - loss: 3.1332 - accuracy: 0.7200\n",
            "4/4 [==============================] - 0s 13ms/step - loss: 8.1331 - accuracy: 0.2200\n",
            "4/4 [==============================] - 0s 13ms/step - loss: 2.4410 - accuracy: 0.7400\n",
            "4/4 [==============================] - 0s 14ms/step - loss: 8.8625 - accuracy: 0.1900\n",
            "4/4 [==============================] - 0s 13ms/step - loss: 2.1285 - accuracy: 0.7500\n",
            "4/4 [==============================] - 0s 14ms/step - loss: 6.9886 - accuracy: 0.2400\n",
            "4/4 [==============================] - 0s 14ms/step - loss: 2.9080 - accuracy: 0.7700\n",
            "4/4 [==============================] - 0s 14ms/step - loss: 7.7063 - accuracy: 0.2400\n",
            "4/4 [==============================] - 0s 14ms/step - loss: 2.6953 - accuracy: 0.7000\n",
            "4/4 [==============================] - 0s 13ms/step - loss: 7.7164 - accuracy: 0.2300\n",
            "4/4 [==============================] - 0s 14ms/step - loss: 2.3286 - accuracy: 0.7400\n",
            "4/4 [==============================] - 0s 14ms/step - loss: 6.9069 - accuracy: 0.2500\n",
            "4/4 [==============================] - 0s 13ms/step - loss: 2.7163 - accuracy: 0.7400\n",
            "4/4 [==============================] - 0s 14ms/step - loss: 8.4087 - accuracy: 0.1500\n",
            "4/4 [==============================] - 0s 14ms/step - loss: 3.3585 - accuracy: 0.6900\n",
            "4/4 [==============================] - 0s 14ms/step - loss: 7.8099 - accuracy: 0.1600\n",
            "4/4 [==============================] - 0s 14ms/step - loss: 3.3074 - accuracy: 0.6600\n",
            "4/4 [==============================] - 0s 13ms/step - loss: 8.6309 - accuracy: 0.1500\n",
            "4/4 [==============================] - 0s 13ms/step - loss: 2.6837 - accuracy: 0.7300\n",
            "4/4 [==============================] - 0s 13ms/step - loss: 7.6096 - accuracy: 0.1900\n",
            "4/4 [==============================] - 0s 14ms/step - loss: 3.2952 - accuracy: 0.7500\n",
            "4/4 [==============================] - 0s 14ms/step - loss: 6.7248 - accuracy: 0.2500\n",
            "4/4 [==============================] - 0s 15ms/step - loss: 2.9500 - accuracy: 0.6100\n",
            "4/4 [==============================] - 0s 14ms/step - loss: 7.5323 - accuracy: 0.2500\n",
            "4/4 [==============================] - 0s 14ms/step - loss: 6.7552 - accuracy: 0.6000\n",
            "4/4 [==============================] - 0s 14ms/step - loss: 9.5425 - accuracy: 0.1600\n",
            "4/4 [==============================] - 0s 14ms/step - loss: 3.8772 - accuracy: 0.6700\n",
            "4/4 [==============================] - 0s 14ms/step - loss: 8.4033 - accuracy: 0.1700\n",
            "4/4 [==============================] - 0s 14ms/step - loss: 3.9093 - accuracy: 0.6200\n",
            "4/4 [==============================] - 0s 13ms/step - loss: 9.3158 - accuracy: 0.1400\n"
          ]
        }
      ],
      "source": [
        "rootdir_RP = '/content/drive/MyDrive/Github/CNN_DOA/Dataset/RECEIVER_POS'\n",
        "\n",
        "accRes30_RP, custAccRes30_RP, accRes10_RP, custAccRes10_RP = accuracyGenerator(rootdir_RP, modelRes30, modelRes10, sr, duration)"
      ]
    },
    {
      "cell_type": "code",
      "source": [
        "# Plotting results\n",
        "plt.figure(figsize=(16,5))\n",
        "\n",
        "# Model res 10\n",
        "plt.subplot(1,2,1)\n",
        "plt.plot(distances, accRes10_RP)\n",
        "plt.plot(distances, custAccRes10_RP)\n",
        "plt.title('Model res 10° accuracy: receiver position')\n",
        "plt.ylabel('accuracy')\n",
        "plt.xlabel('Distance from first position [m]')\n",
        "plt.ylim([0,100])\n",
        "plt.legend(['Accuracy', 'Custom Accuracy'], loc='upper left')\n",
        "\n",
        "# Model res 30\n",
        "plt.subplot(1,2,2)\n",
        "plt.plot(distances, accRes30_RP)\n",
        "plt.plot(distances, custAccRes30_RP)\n",
        "plt.title('Model res 30° accuracy: receiver position')\n",
        "plt.ylabel('accuracy')\n",
        "plt.xlabel('Distance from first position [m]')\n",
        "plt.ylim([0,100])\n",
        "plt.legend(['Accuracy', 'Custom Accuracy'], loc='upper left')"
      ],
      "metadata": {
        "colab": {
          "base_uri": "https://localhost:8080/",
          "height": 334
        },
        "id": "mEvq1Yl9Q7oy",
        "outputId": "7a6103a6-f639-413f-b666-798bb7772204"
      },
      "execution_count": null,
      "outputs": [
        {
          "output_type": "execute_result",
          "data": {
            "text/plain": [
              "<matplotlib.legend.Legend at 0x7fac582b08d0>"
            ]
          },
          "metadata": {},
          "execution_count": 24
        },
        {
          "output_type": "display_data",
          "data": {
            "text/plain": [
              "<Figure size 1152x360 with 2 Axes>"
            ],
            "image/png": "[encoded data removed]"
          },
          "metadata": {
            "needs_background": "light"
          }
        }
      ]
    },
    {
      "cell_type": "code",
      "source": [
        "%cd '/content/drive/MyDrive/Github/CNN_DOA/results_csv' "
      ],
      "metadata": {
        "colab": {
          "base_uri": "https://localhost:8080/"
        },
        "id": "e1UujTuHDPaa",
        "outputId": "a12ef437-252a-4d19-e590-a48d86711d83"
      },
      "execution_count": null,
      "outputs": [
        {
          "output_type": "stream",
          "name": "stdout",
          "text": [
            "/content/drive/.shortcut-targets-by-id/1-B6wbQJimyIAQNh3Ccp578yl6uudDF9j/CNN_DOA/results_csv\n"
          ]
        }
      ]
    },
    {
      "cell_type": "code",
      "source": [
        "# Creating csv file for results\n",
        "header = ['test_range', 'accuracy'] # Columns' names\n",
        "\n",
        "# Exporting data for model res 30°\n",
        "with open('rec_res30.csv', 'w') as f:\n",
        "    writer = csv.writer(f)\n",
        "\n",
        "    # write the header\n",
        "    writer.writerow(header)\n",
        "\n",
        "    for i in range(0, len(custAccRes30_RP)):\n",
        "      row = [distances[i], custAccRes30_RP[i]]\n",
        "      # write the data\n",
        "      writer.writerow(row)\n",
        "\n",
        "# Exporting data for model res 10°\n",
        "with open('rec_res10.csv', 'w') as f:\n",
        "    writer = csv.writer(f)\n",
        "\n",
        "    # write the header\n",
        "    writer.writerow(header)\n",
        "\n",
        "    for i in range(0, len(custAccRes10_RP)):\n",
        "      row = [distances[i], custAccRes10_RP[i]]\n",
        "      # write the data\n",
        "      writer.writerow(row)"
      ],
      "metadata": {
        "id": "nCO6To6U34wV"
      },
      "execution_count": null,
      "outputs": []
    }
  ],
  "metadata": {
    "accelerator": "GPU",
    "colab": {
      "collapsed_sections": [],
      "name": "Various_Room_Tests.ipynb",
      "provenance": [],
      "toc_visible": true,
      "include_colab_link": true
    },
    "kernelspec": {
      "display_name": "Python 3",
      "name": "python3"
    },
    "language_info": {
      "name": "python"
    },
    "gpuClass": "standard"
  },
  "nbformat": 4,
  "nbformat_minor": 0
}